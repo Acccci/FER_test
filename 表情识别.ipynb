{
  "cells": [
    {
      "cell_type": "markdown",
      "metadata": {
        "id": "view-in-github",
        "colab_type": "text"
      },
      "source": [
        "<a href=\"https://colab.research.google.com/github/Acccci/FER_test/blob/colab/%E8%A1%A8%E6%83%85%E8%AF%86%E5%88%AB.ipynb\" target=\"_parent\"><img src=\"https://colab.research.google.com/assets/colab-badge.svg\" alt=\"Open In Colab\"/></a>"
      ]
    },
    {
      "cell_type": "code",
      "execution_count": 1,
      "metadata": {
        "colab": {
          "base_uri": "https://localhost:8080/"
        },
        "id": "AGvVunkkijmX",
        "outputId": "2d31ac25-1680-4f31-cbca-2d77a7de2c0a"
      },
      "outputs": [
        {
          "output_type": "stream",
          "name": "stdout",
          "text": [
            "Drive already mounted at /content/drive; to attempt to forcibly remount, call drive.mount(\"/content/drive\", force_remount=True).\n"
          ]
        }
      ],
      "source": [
        "from google.colab import drive\n",
        "drive.mount('/content/drive')"
      ]
    },
    {
      "cell_type": "code",
      "source": [
        "  import tensorflow as tf\n",
        "  print(tf.__version__)\n",
        "  print(tf.keras.__version__)"
      ],
      "metadata": {
        "colab": {
          "base_uri": "https://localhost:8080/"
        },
        "id": "VPxwMyZ5u5T9",
        "outputId": "c9c4b433-cb31-4305-8aef-e4a1cc8ccc81"
      },
      "execution_count": null,
      "outputs": [
        {
          "output_type": "stream",
          "name": "stdout",
          "text": [
            "2.8.0\n",
            "2.8.0\n"
          ]
        }
      ]
    },
    {
      "cell_type": "code",
      "execution_count": 2,
      "metadata": {
        "colab": {
          "base_uri": "https://localhost:8080/"
        },
        "id": "eTCVmhvCtHua",
        "outputId": "95d125e8-60c8-4d0f-c920-83c131f9344b"
      },
      "outputs": [
        {
          "output_type": "stream",
          "name": "stdout",
          "text": [
            "WARNING:tensorflow:`write_grads` will be ignored in TensorFlow 2.0 for the `TensorBoard` Callback.\n",
            "WARNING:tensorflow:`batch_size` is no longer needed in the `TensorBoard` Callback and will be ignored in TensorFlow 2.0.\n",
            "(61868, 1)   (61868,)\n",
            "(61868, 48, 48, 1)\n",
            "(61868, 1)\n",
            "Model: \"sequential\"\n",
            "_________________________________________________________________\n",
            " Layer (type)                Output Shape              Param #   \n",
            "=================================================================\n",
            " conv2d (Conv2D)             (None, 46, 46, 32)        320       \n",
            "                                                                 \n",
            " batch_normalization (BatchN  (None, 46, 46, 32)       128       \n",
            " ormalization)                                                   \n",
            "                                                                 \n",
            " activation (Activation)     (None, 46, 46, 32)        0         \n",
            "                                                                 \n",
            " conv2d_1 (Conv2D)           (None, 46, 46, 64)        18496     \n",
            "                                                                 \n",
            " batch_normalization_1 (Batc  (None, 46, 46, 64)       256       \n",
            " hNormalization)                                                 \n",
            "                                                                 \n",
            " activation_1 (Activation)   (None, 46, 46, 64)        0         \n",
            "                                                                 \n",
            " max_pooling2d (MaxPooling2D  (None, 23, 23, 64)       0         \n",
            " )                                                               \n",
            "                                                                 \n",
            " conv2d_2 (Conv2D)           (None, 21, 21, 64)        36928     \n",
            "                                                                 \n",
            " batch_normalization_2 (Batc  (None, 21, 21, 64)       256       \n",
            " hNormalization)                                                 \n",
            "                                                                 \n",
            " activation_2 (Activation)   (None, 21, 21, 64)        0         \n",
            "                                                                 \n",
            " conv2d_3 (Conv2D)           (None, 21, 21, 128)       73856     \n",
            "                                                                 \n",
            " batch_normalization_3 (Batc  (None, 21, 21, 128)      512       \n",
            " hNormalization)                                                 \n",
            "                                                                 \n",
            " activation_3 (Activation)   (None, 21, 21, 128)       0         \n",
            "                                                                 \n",
            " max_pooling2d_1 (MaxPooling  (None, 10, 10, 128)      0         \n",
            " 2D)                                                             \n",
            "                                                                 \n",
            " conv2d_4 (Conv2D)           (None, 8, 8, 128)         147584    \n",
            "                                                                 \n",
            " batch_normalization_4 (Batc  (None, 8, 8, 128)        512       \n",
            " hNormalization)                                                 \n",
            "                                                                 \n",
            " activation_4 (Activation)   (None, 8, 8, 128)         0         \n",
            "                                                                 \n",
            " max_pooling2d_2 (MaxPooling  (None, 4, 4, 128)        0         \n",
            " 2D)                                                             \n",
            "                                                                 \n",
            " flatten (Flatten)           (None, 2048)              0         \n",
            "                                                                 \n",
            " dense (Dense)               (None, 200)               409800    \n",
            "                                                                 \n",
            " dropout (Dropout)           (None, 200)               0         \n",
            "                                                                 \n",
            " dense_1 (Dense)             (None, 2)                 402       \n",
            "                                                                 \n",
            "=================================================================\n",
            "Total params: 689,050\n",
            "Trainable params: 688,218\n",
            "Non-trainable params: 832\n",
            "_________________________________________________________________\n",
            "Epoch 1/30\n",
            "1741/1741 [==============================] - 32s 12ms/step - loss: 0.6579 - accuracy: 0.6216 - val_loss: 0.5661 - val_accuracy: 0.7084\n",
            "Epoch 2/30\n",
            "1741/1741 [==============================] - 20s 11ms/step - loss: 0.5280 - accuracy: 0.7308 - val_loss: 0.4528 - val_accuracy: 0.7862\n",
            "Epoch 3/30\n",
            "1741/1741 [==============================] - 20s 11ms/step - loss: 0.4113 - accuracy: 0.8124 - val_loss: 0.4218 - val_accuracy: 0.7858\n",
            "Epoch 4/30\n",
            "1741/1741 [==============================] - 20s 11ms/step - loss: 0.2854 - accuracy: 0.8799 - val_loss: 0.2552 - val_accuracy: 0.8964\n",
            "Epoch 5/30\n",
            "1741/1741 [==============================] - 20s 11ms/step - loss: 0.1859 - accuracy: 0.9284 - val_loss: 0.2740 - val_accuracy: 0.8751\n",
            "Epoch 6/30\n",
            "1741/1741 [==============================] - 20s 11ms/step - loss: 0.1192 - accuracy: 0.9563 - val_loss: 0.1502 - val_accuracy: 0.9462\n",
            "Epoch 7/30\n",
            "1741/1741 [==============================] - 20s 11ms/step - loss: 0.0851 - accuracy: 0.9695 - val_loss: 0.1248 - val_accuracy: 0.9593\n",
            "Epoch 8/30\n",
            "1741/1741 [==============================] - 20s 11ms/step - loss: 0.0695 - accuracy: 0.9760 - val_loss: 0.1241 - val_accuracy: 0.9573\n",
            "Epoch 9/30\n",
            "1741/1741 [==============================] - 20s 11ms/step - loss: 0.0547 - accuracy: 0.9811 - val_loss: 0.1457 - val_accuracy: 0.9557\n",
            "Epoch 10/30\n",
            "1741/1741 [==============================] - 20s 11ms/step - loss: 0.0464 - accuracy: 0.9842 - val_loss: 0.1239 - val_accuracy: 0.9606\n",
            "Epoch 11/30\n",
            "1741/1741 [==============================] - 20s 11ms/step - loss: 0.0475 - accuracy: 0.9838 - val_loss: 0.1014 - val_accuracy: 0.9688\n",
            "Epoch 12/30\n",
            "1741/1741 [==============================] - 20s 11ms/step - loss: 0.0414 - accuracy: 0.9860 - val_loss: 0.1842 - val_accuracy: 0.9483\n",
            "Epoch 13/30\n",
            "1741/1741 [==============================] - 20s 11ms/step - loss: 0.0376 - accuracy: 0.9873 - val_loss: 0.1316 - val_accuracy: 0.9631\n",
            "Epoch 14/30\n",
            "1741/1741 [==============================] - 20s 11ms/step - loss: 0.0388 - accuracy: 0.9875 - val_loss: 0.1513 - val_accuracy: 0.9441\n",
            "Epoch 15/30\n",
            "1741/1741 [==============================] - 20s 11ms/step - loss: 0.0429 - accuracy: 0.9867 - val_loss: 0.0796 - val_accuracy: 0.9741\n",
            "Epoch 16/30\n",
            "1741/1741 [==============================] - 20s 11ms/step - loss: 0.0299 - accuracy: 0.9902 - val_loss: 0.2162 - val_accuracy: 0.9449\n",
            "Epoch 17/30\n",
            "1741/1741 [==============================] - 20s 11ms/step - loss: 0.0386 - accuracy: 0.9871 - val_loss: 0.0794 - val_accuracy: 0.9761\n",
            "Epoch 18/30\n",
            "1741/1741 [==============================] - 20s 11ms/step - loss: 0.0248 - accuracy: 0.9922 - val_loss: 0.0909 - val_accuracy: 0.9724\n",
            "Epoch 19/30\n",
            "1741/1741 [==============================] - 21s 12ms/step - loss: 0.0303 - accuracy: 0.9902 - val_loss: 0.2109 - val_accuracy: 0.9510\n",
            "Epoch 20/30\n",
            "1741/1741 [==============================] - 20s 11ms/step - loss: 0.0278 - accuracy: 0.9911 - val_loss: 0.1201 - val_accuracy: 0.9614\n",
            "Epoch 21/30\n",
            "1741/1741 [==============================] - 20s 11ms/step - loss: 0.0334 - accuracy: 0.9890 - val_loss: 0.1681 - val_accuracy: 0.9543\n",
            "Epoch 22/30\n",
            "1741/1741 [==============================] - 20s 12ms/step - loss: 0.0298 - accuracy: 0.9899 - val_loss: 0.1097 - val_accuracy: 0.9724\n",
            "Epoch 23/30\n",
            "1741/1741 [==============================] - 22s 12ms/step - loss: 0.0170 - accuracy: 0.9954 - val_loss: 0.1021 - val_accuracy: 0.9753\n",
            "Epoch 24/30\n",
            "1741/1741 [==============================] - 20s 12ms/step - loss: 0.0262 - accuracy: 0.9915 - val_loss: 0.1151 - val_accuracy: 0.9748\n",
            "Epoch 25/30\n",
            "1741/1741 [==============================] - 20s 12ms/step - loss: 0.0219 - accuracy: 0.9926 - val_loss: 0.0950 - val_accuracy: 0.9790\n",
            "Epoch 26/30\n",
            "1741/1741 [==============================] - 20s 11ms/step - loss: 0.0207 - accuracy: 0.9934 - val_loss: 0.1173 - val_accuracy: 0.9683\n",
            "Epoch 27/30\n",
            "1741/1741 [==============================] - 20s 12ms/step - loss: 0.0254 - accuracy: 0.9917 - val_loss: 0.1065 - val_accuracy: 0.9766\n",
            "Epoch 28/30\n",
            "1741/1741 [==============================] - 20s 11ms/step - loss: 0.0207 - accuracy: 0.9935 - val_loss: 0.1933 - val_accuracy: 0.9585\n",
            "Epoch 29/30\n",
            "1741/1741 [==============================] - 20s 11ms/step - loss: 0.0231 - accuracy: 0.9929 - val_loss: 0.1011 - val_accuracy: 0.9746\n",
            "Epoch 30/30\n",
            "1741/1741 [==============================] - 20s 11ms/step - loss: 0.0188 - accuracy: 0.9937 - val_loss: 0.1234 - val_accuracy: 0.9664\n"
          ]
        }
      ],
      "source": [
        "import numpy as np\n",
        "import pandas as pd\n",
        "import os\n",
        "# for dirname,_,filenames in os.walk('kaggle/input'):\n",
        "  # for filename in filenames:\n",
        "    # print(os.path.join(dirname, filename))\n",
        "from keras.layers.core.dropout import Dropout\n",
        "from keras.layers.core.dense import Dense\n",
        "from keras.layers.core.flatten import Flatten\n",
        "from keras.layers.core.activation import Activation\n",
        "from keras.layers.pooling import MaxPooling2D\n",
        "import tensorflow as tf\n",
        "from tensorflow import keras\n",
        "import matplotlib.pyplot as plt\n",
        "import seaborn as sns\n",
        "from sklearn.model_selection import train_test_split\n",
        "from keras.layers import Conv2D,MaxPool2D,AveragePooling2D,Input,BatchNormalization, MaxPooling2D, Activation, Flatten, Dense, Dropout\n",
        "from keras.models import Sequential\n",
        "from keras.utils import np_utils\n",
        "from sklearn.metrics import classification_report\n",
        "from imblearn.over_sampling import RandomOverSampler\n",
        "from keras_preprocessing import image\n",
        "import scipy\n",
        "import os\n",
        "import cv2\n",
        "data = pd.read_csv(\"/content/drive/MyDrive/anger.csv\")\n",
        "from tensorflow.keras.callbacks import TensorBoard\n",
        "tbCallBack = TensorBoard(log_dir='/content/drive/MyDrive/log', histogram_freq=0,\n",
        "                         write_graph=True,\n",
        "                         write_grads=True,\n",
        "                         batch_size=1794,\n",
        "                         write_images=True)\n",
        "#x数据集是图片的像素；y数据集是标签\n",
        "x_data = data[\"pixels\"]\n",
        "y_data = data[\"emotion\"]\n",
        "sns.set_theme(style=\"darkgrid\")\n",
        "oversampler = RandomOverSampler(sampling_strategy=\"auto\")\n",
        "\n",
        "#数据集预处理\n",
        "x_data, y_data = oversampler.fit_resample(x_data.values.reshape(-1,1),y_data)\n",
        "print(x_data.shape, \" \", y_data.shape)\n",
        "y_data.value_counts()\n",
        "y_data.shape\n",
        "x_data = pd.Series(x_data.flatten())\n",
        "x_data = np.array(list(map(str.split, x_data)), np.float32)\n",
        "x_data /= 255\n",
        "# x_data[:10]\n",
        "x_data = x_data.reshape(-1, 48, 48, 1)\n",
        "print(x_data.shape)\n",
        "y_data = np.array(y_data)\n",
        "y_data = y_data.reshape(y_data.shape[0], 1)\n",
        "print(y_data.shape)\n",
        "x_train,x_test, y_train, y_test = train_test_split(x_data, y_data, test_size=0.1, random_state=45)\n",
        "\n",
        "model = Sequential([ \n",
        "  Input((48, 48, 1)),\n",
        "  Conv2D(32, kernel_size=(3,3), strides=(1,1), padding='valid'),\n",
        "  BatchNormalization(axis=3),\n",
        "  Activation('relu'),\n",
        "  Conv2D(64, (3,3), strides=(1,1), padding='same'),\n",
        "  BatchNormalization(axis=3),\n",
        "  Activation('relu'),\n",
        "  MaxPooling2D((2,2)),\n",
        "  Conv2D(64, (3, 3), strides=(1,1), padding='valid'),\n",
        "  BatchNormalization(axis=3),\n",
        "  Activation('relu'),\n",
        "  Conv2D(128,(3, 3), strides=(1, 1), padding='same'),\n",
        "  BatchNormalization(axis=3),\n",
        "  Activation('relu'),\n",
        "  MaxPooling2D((2, 2)),\n",
        "  Conv2D(128, (3, 3), strides=(1, 1), padding='valid'),\n",
        "  BatchNormalization(axis=3),\n",
        "  Activation('relu'),\n",
        "  MaxPooling2D((2,2)),\n",
        "  Flatten(),\n",
        "  Dense(200, activation='relu'),\n",
        "  Dropout(0.6),\n",
        "  Dense(2,activation='sigmoid')  # 如果是一分类表情识别， 此处为1；\n",
        "  ])\n",
        "model.summary()\n",
        "adam = keras.optimizers.Adam(learning_rate=0.0001)\n",
        "model.compile(optimizer=adam, loss='categorical_crossentropy', metrics=['accuracy'])\n",
        "y_train = np_utils.to_categorical(y_train, 2)\n",
        "y_train.shape\n",
        "y_test = np_utils.to_categorical(y_test, 2)\n",
        "y_test.shape\n",
        "# #模型训练\n",
        "history = model.fit(x_train,y_train,epochs=30 ,validation_data=(x_test, y_test),callbacks=[tbCallBack])\n",
        "\n"
      ]
    },
    {
      "cell_type": "code",
      "execution_count": 4,
      "metadata": {
        "colab": {
          "base_uri": "https://localhost:8080/",
          "height": 1000
        },
        "id": "oxvXCbGerNTx",
        "outputId": "5c2b7f11-08a1-4e6c-e519-cb68297ccba4"
      },
      "outputs": [
        {
          "output_type": "display_data",
          "data": {
            "text/plain": [
              "<Figure size 432x288 with 1 Axes>"
            ],
            "image/png": "[encoded data removed]"
          },
          "metadata": {}
        },
        {
          "output_type": "display_data",
          "data": {
            "text/plain": [
              "<Figure size 432x288 with 1 Axes>"
            ],
            "image/png": "[encoded data removed]"
          },
          "metadata": {}
        },
        {
          "output_type": "stream",
          "name": "stdout",
          "text": [
            "              precision    recall  f1-score   support\n",
            "\n",
            "           0       1.00      0.94      0.97      3083\n",
            "           1       0.94      1.00      0.97      3104\n",
            "\n",
            "    accuracy                           0.97      6187\n",
            "   macro avg       0.97      0.97      0.97      6187\n",
            "weighted avg       0.97      0.97      0.97      6187\n",
            "\n"
          ]
        },
        {
          "output_type": "display_data",
          "data": {
            "text/plain": [
              "<Figure size 720x504 with 2 Axes>"
            ],
            "image/png": "[encoded data removed]"
          },
          "metadata": {}
        }
      ],
      "source": [
        "import matplotlib.pyplot as plt\n",
        "plt.plot(history.history['accuracy'])\n",
        "plt.plot(history.history['val_accuracy'])\n",
        "plt.title('model_accuracy')\n",
        "plt.ylabel('accuracy')\n",
        "plt.xlabel('epoch')\n",
        "plt.legend(['train','test'],loc='upper left')\n",
        "plt.show()\n",
        "#summarize history for loss\n",
        "plt.plot(history.history['loss'])\n",
        "plt.plot(history.history['val_loss'])\n",
        "plt.title('model_loss')\n",
        "plt.ylabel('loss')\n",
        "plt.xlabel('epoch')\n",
        "plt.legend(['train','test'],loc='upper left')\n",
        "plt.show()\n",
        "y_pred=model.predict(x_test)\n",
        "y_result=[]\n",
        "for pred in y_pred:\n",
        "  y_result.append(np.argmax(pred))\n",
        "y_result[:10]\n",
        "\n",
        "y_actual=[]\n",
        "for pred in y_test:\n",
        "  y_actual.append(np.argmax(pred))\n",
        "y_actual[:10]\n",
        "\n",
        "from sklearn.metrics import confusion_matrix, classification_report\n",
        "print(classification_report(y_actual,y_result))\n",
        "import seaborn as sn\n",
        "cm = tf.math.confusion_matrix(labels=y_actual,predictions=y_result)\n",
        "\n",
        "\n",
        "plt.figure(figsize=(10,7))\n",
        "sn.heatmap(cm,annot=True,fmt='d')\n",
        "plt.xlabel('Predicted')\n",
        "plt.ylabel('Truth')\n",
        "fer_json=model.to_json()\n",
        "with open(\"fer.json\", \"w\") as json_file:\n",
        "  json_file.write(fer_json)\n",
        "\n",
        "#保存模型\n",
        "model.save(\"/content/drive/MyDrive/anger_model.h5\")\n"
      ]
    },
    {
      "cell_type": "code",
      "source": [
        "LOG_DIR = '/content/drive/MyDrive/log'\n",
        "get_ipython().system_raw('tensorboard --logdir {} --host 0.0.0.0 --port 6006 &'.format(LOG_DIR))\n",
        "\n",
        "!npm install -g localtunnel\n",
        "\n",
        "get_ipython().system_raw('lt --port 6006 >> url.txt>&1 &')\n"
      ],
      "metadata": {
        "id": "jd8C3wYm1KEM",
        "colab": {
          "base_uri": "https://localhost:8080/"
        },
        "outputId": "8aa93af3-5231-41f5-e05a-5a4d37aca96b"
      },
      "execution_count": 5,
      "outputs": [
        {
          "output_type": "stream",
          "name": "stdout",
          "text": [
            "\u001b[K\u001b[?25h/tools/node/bin/lt -> /tools/node/lib/node_modules/localtunnel/bin/lt.js\n",
            "+ localtunnel@2.0.2\n",
            "added 22 packages from 22 contributors in 1.434s\n"
          ]
        }
      ]
    },
    {
      "cell_type": "code",
      "source": [
        "!cat url.txt"
      ],
      "metadata": {
        "id": "J3L6c-mq79zi",
        "colab": {
          "base_uri": "https://localhost:8080/"
        },
        "outputId": "0c38138a-a632-4856-cb60-b302792e4840"
      },
      "execution_count": 6,
      "outputs": [
        {
          "output_type": "stream",
          "name": "stdout",
          "text": [
            "your url is: https://little-panda-13.loca.lt\n"
          ]
        }
      ]
    },
    {
      "cell_type": "code",
      "source": [
        "img = image.load_img(\"/content/drive/MyDrive/cry.jpg\", grayscale=True, target_size=(48, 48))\n",
        "x = image.img_to_array(img)\n",
        "\n",
        "x = np.expand_dims(x, axis=0)\n",
        "x /= 255   \n",
        "custom = model.predict(x)\n",
        "print(custom)\n",
        "x = np.array(x, 'float32')\n",
        "x = x.reshape([48, 48])\n",
        "\n",
        "plt.gray()\n",
        "plt.imshow(x)\n",
        "plt.show()"
      ],
      "metadata": {
        "id": "36gIZLax7jft",
        "colab": {
          "base_uri": "https://localhost:8080/",
          "height": 322
        },
        "outputId": "3925454c-7362-4916-b380-fc7ceeace752"
      },
      "execution_count": 7,
      "outputs": [
        {
          "output_type": "stream",
          "name": "stderr",
          "text": [
            "/usr/local/lib/python3.7/dist-packages/keras_preprocessing/image/utils.py:107: UserWarning: grayscale is deprecated. Please use color_mode = \"grayscale\"\n",
            "  warnings.warn('grayscale is deprecated. Please use '\n"
          ]
        },
        {
          "output_type": "stream",
          "name": "stdout",
          "text": [
            "[[0.92702436 0.15660144]]\n"
          ]
        },
        {
          "output_type": "display_data",
          "data": {
            "text/plain": [
              "<Figure size 432x288 with 1 Axes>"
            ],
            "image/png": "[encoded data removed]"
          },
          "metadata": {}
        }
      ]
    },
    {
      "cell_type": "code",
      "source": [
        "import numpy as np\n",
        "import matplotlib.pyplot as plt\n",
        "def emotion_analysis(emotions):\n",
        "  objects=('anger','disgust', 'fear', 'happy', 'sad', 'surprise', 'neutral')\n",
        "  y_pos = np.arange(len(objects))\n",
        "  plt.bar(y_pos,emotions, align='center',alpha=0.5)\n",
        "  plt.xticks(y_pos, objects)\n",
        "  plt.ylabel('percentage')\n",
        "  plt.title('emotion')\n",
        "  plt.show()\n",
        "\n",
        "img = image.load_img(\"/content/drive/MyDrive/cry.jpg\", grayscale=True, target_size=(48, 48))\n",
        "x = image.img_to_array(img)\n",
        "\n",
        "x = np.expand_dims(x, axis=0)\n",
        "x /= 255   \n",
        "custom = model.predict(x)\n",
        "custom\n",
        "emotion_analysis(custom[0])\n",
        "x = np.array(x, 'float32')\n",
        "x = x.reshape([48, 48])\n",
        "\n",
        "plt.gray()\n",
        "plt.imshow(x)\n",
        "plt.show()"
      ],
      "metadata": {
        "id": "7o-yBgSljZpP",
        "colab": {
          "base_uri": "https://localhost:8080/",
          "height": 706
        },
        "outputId": "e4066495-4e0b-48f9-a6fa-9e4faf245137"
      },
      "execution_count": 8,
      "outputs": [
        {
          "output_type": "stream",
          "name": "stderr",
          "text": [
            "/usr/local/lib/python3.7/dist-packages/keras_preprocessing/image/utils.py:107: UserWarning: grayscale is deprecated. Please use color_mode = \"grayscale\"\n",
            "  warnings.warn('grayscale is deprecated. Please use '\n"
          ]
        },
        {
          "output_type": "error",
          "ename": "ValueError",
          "evalue": "ignored",
          "traceback": [
            "\u001b[0;31m---------------------------------------------------------------------------\u001b[0m",
            "\u001b[0;31mValueError\u001b[0m                                Traceback (most recent call last)",
            "\u001b[0;32m<ipython-input-8-427144ea5feb>\u001b[0m in \u001b[0;36m<module>\u001b[0;34m()\u001b[0m\n\u001b[1;32m     17\u001b[0m \u001b[0mcustom\u001b[0m \u001b[0;34m=\u001b[0m \u001b[0mmodel\u001b[0m\u001b[0;34m.\u001b[0m\u001b[0mpredict\u001b[0m\u001b[0;34m(\u001b[0m\u001b[0mx\u001b[0m\u001b[0;34m)\u001b[0m\u001b[0;34m\u001b[0m\u001b[0;34m\u001b[0m\u001b[0m\n\u001b[1;32m     18\u001b[0m \u001b[0mcustom\u001b[0m\u001b[0;34m\u001b[0m\u001b[0;34m\u001b[0m\u001b[0m\n\u001b[0;32m---> 19\u001b[0;31m \u001b[0memotion_analysis\u001b[0m\u001b[0;34m(\u001b[0m\u001b[0mcustom\u001b[0m\u001b[0;34m[\u001b[0m\u001b[0;36m0\u001b[0m\u001b[0;34m]\u001b[0m\u001b[0;34m)\u001b[0m\u001b[0;34m\u001b[0m\u001b[0;34m\u001b[0m\u001b[0m\n\u001b[0m\u001b[1;32m     20\u001b[0m \u001b[0mx\u001b[0m \u001b[0;34m=\u001b[0m \u001b[0mnp\u001b[0m\u001b[0;34m.\u001b[0m\u001b[0marray\u001b[0m\u001b[0;34m(\u001b[0m\u001b[0mx\u001b[0m\u001b[0;34m,\u001b[0m \u001b[0;34m'float32'\u001b[0m\u001b[0;34m)\u001b[0m\u001b[0;34m\u001b[0m\u001b[0;34m\u001b[0m\u001b[0m\n\u001b[1;32m     21\u001b[0m \u001b[0mx\u001b[0m \u001b[0;34m=\u001b[0m \u001b[0mx\u001b[0m\u001b[0;34m.\u001b[0m\u001b[0mreshape\u001b[0m\u001b[0;34m(\u001b[0m\u001b[0;34m[\u001b[0m\u001b[0;36m48\u001b[0m\u001b[0;34m,\u001b[0m \u001b[0;36m48\u001b[0m\u001b[0;34m]\u001b[0m\u001b[0;34m)\u001b[0m\u001b[0;34m\u001b[0m\u001b[0;34m\u001b[0m\u001b[0m\n",
            "\u001b[0;32m<ipython-input-8-427144ea5feb>\u001b[0m in \u001b[0;36memotion_analysis\u001b[0;34m(emotions)\u001b[0m\n\u001b[1;32m      4\u001b[0m   \u001b[0mobjects\u001b[0m\u001b[0;34m=\u001b[0m\u001b[0;34m(\u001b[0m\u001b[0;34m'anger'\u001b[0m\u001b[0;34m,\u001b[0m\u001b[0;34m'disgust'\u001b[0m\u001b[0;34m,\u001b[0m \u001b[0;34m'fear'\u001b[0m\u001b[0;34m,\u001b[0m \u001b[0;34m'happy'\u001b[0m\u001b[0;34m,\u001b[0m \u001b[0;34m'sad'\u001b[0m\u001b[0;34m,\u001b[0m \u001b[0;34m'surprise'\u001b[0m\u001b[0;34m,\u001b[0m \u001b[0;34m'neutral'\u001b[0m\u001b[0;34m)\u001b[0m\u001b[0;34m\u001b[0m\u001b[0;34m\u001b[0m\u001b[0m\n\u001b[1;32m      5\u001b[0m   \u001b[0my_pos\u001b[0m \u001b[0;34m=\u001b[0m \u001b[0mnp\u001b[0m\u001b[0;34m.\u001b[0m\u001b[0marange\u001b[0m\u001b[0;34m(\u001b[0m\u001b[0mlen\u001b[0m\u001b[0;34m(\u001b[0m\u001b[0mobjects\u001b[0m\u001b[0;34m)\u001b[0m\u001b[0;34m)\u001b[0m\u001b[0;34m\u001b[0m\u001b[0;34m\u001b[0m\u001b[0m\n\u001b[0;32m----> 6\u001b[0;31m   \u001b[0mplt\u001b[0m\u001b[0;34m.\u001b[0m\u001b[0mbar\u001b[0m\u001b[0;34m(\u001b[0m\u001b[0my_pos\u001b[0m\u001b[0;34m,\u001b[0m\u001b[0memotions\u001b[0m\u001b[0;34m,\u001b[0m \u001b[0malign\u001b[0m\u001b[0;34m=\u001b[0m\u001b[0;34m'center'\u001b[0m\u001b[0;34m,\u001b[0m\u001b[0malpha\u001b[0m\u001b[0;34m=\u001b[0m\u001b[0;36m0.5\u001b[0m\u001b[0;34m)\u001b[0m\u001b[0;34m\u001b[0m\u001b[0;34m\u001b[0m\u001b[0m\n\u001b[0m\u001b[1;32m      7\u001b[0m   \u001b[0mplt\u001b[0m\u001b[0;34m.\u001b[0m\u001b[0mxticks\u001b[0m\u001b[0;34m(\u001b[0m\u001b[0my_pos\u001b[0m\u001b[0;34m,\u001b[0m \u001b[0mobjects\u001b[0m\u001b[0;34m)\u001b[0m\u001b[0;34m\u001b[0m\u001b[0;34m\u001b[0m\u001b[0m\n\u001b[1;32m      8\u001b[0m   \u001b[0mplt\u001b[0m\u001b[0;34m.\u001b[0m\u001b[0mylabel\u001b[0m\u001b[0;34m(\u001b[0m\u001b[0;34m'percentage'\u001b[0m\u001b[0;34m)\u001b[0m\u001b[0;34m\u001b[0m\u001b[0;34m\u001b[0m\u001b[0m\n",
            "\u001b[0;32m/usr/local/lib/python3.7/dist-packages/matplotlib/pyplot.py\u001b[0m in \u001b[0;36mbar\u001b[0;34m(x, height, width, bottom, align, data, **kwargs)\u001b[0m\n\u001b[1;32m   2407\u001b[0m     return gca().bar(\n\u001b[1;32m   2408\u001b[0m         \u001b[0mx\u001b[0m\u001b[0;34m,\u001b[0m \u001b[0mheight\u001b[0m\u001b[0;34m,\u001b[0m \u001b[0mwidth\u001b[0m\u001b[0;34m=\u001b[0m\u001b[0mwidth\u001b[0m\u001b[0;34m,\u001b[0m \u001b[0mbottom\u001b[0m\u001b[0;34m=\u001b[0m\u001b[0mbottom\u001b[0m\u001b[0;34m,\u001b[0m \u001b[0malign\u001b[0m\u001b[0;34m=\u001b[0m\u001b[0malign\u001b[0m\u001b[0;34m,\u001b[0m\u001b[0;34m\u001b[0m\u001b[0;34m\u001b[0m\u001b[0m\n\u001b[0;32m-> 2409\u001b[0;31m         **({\"data\": data} if data is not None else {}), **kwargs)\n\u001b[0m\u001b[1;32m   2410\u001b[0m \u001b[0;34m\u001b[0m\u001b[0m\n\u001b[1;32m   2411\u001b[0m \u001b[0;34m\u001b[0m\u001b[0m\n",
            "\u001b[0;32m/usr/local/lib/python3.7/dist-packages/matplotlib/__init__.py\u001b[0m in \u001b[0;36minner\u001b[0;34m(ax, data, *args, **kwargs)\u001b[0m\n\u001b[1;32m   1563\u001b[0m     \u001b[0;32mdef\u001b[0m \u001b[0minner\u001b[0m\u001b[0;34m(\u001b[0m\u001b[0max\u001b[0m\u001b[0;34m,\u001b[0m \u001b[0;34m*\u001b[0m\u001b[0margs\u001b[0m\u001b[0;34m,\u001b[0m \u001b[0mdata\u001b[0m\u001b[0;34m=\u001b[0m\u001b[0;32mNone\u001b[0m\u001b[0;34m,\u001b[0m \u001b[0;34m**\u001b[0m\u001b[0mkwargs\u001b[0m\u001b[0;34m)\u001b[0m\u001b[0;34m:\u001b[0m\u001b[0;34m\u001b[0m\u001b[0;34m\u001b[0m\u001b[0m\n\u001b[1;32m   1564\u001b[0m         \u001b[0;32mif\u001b[0m \u001b[0mdata\u001b[0m \u001b[0;32mis\u001b[0m \u001b[0;32mNone\u001b[0m\u001b[0;34m:\u001b[0m\u001b[0;34m\u001b[0m\u001b[0;34m\u001b[0m\u001b[0m\n\u001b[0;32m-> 1565\u001b[0;31m             \u001b[0;32mreturn\u001b[0m \u001b[0mfunc\u001b[0m\u001b[0;34m(\u001b[0m\u001b[0max\u001b[0m\u001b[0;34m,\u001b[0m \u001b[0;34m*\u001b[0m\u001b[0mmap\u001b[0m\u001b[0;34m(\u001b[0m\u001b[0msanitize_sequence\u001b[0m\u001b[0;34m,\u001b[0m \u001b[0margs\u001b[0m\u001b[0;34m)\u001b[0m\u001b[0;34m,\u001b[0m \u001b[0;34m**\u001b[0m\u001b[0mkwargs\u001b[0m\u001b[0;34m)\u001b[0m\u001b[0;34m\u001b[0m\u001b[0;34m\u001b[0m\u001b[0m\n\u001b[0m\u001b[1;32m   1566\u001b[0m \u001b[0;34m\u001b[0m\u001b[0m\n\u001b[1;32m   1567\u001b[0m         \u001b[0mbound\u001b[0m \u001b[0;34m=\u001b[0m \u001b[0mnew_sig\u001b[0m\u001b[0;34m.\u001b[0m\u001b[0mbind\u001b[0m\u001b[0;34m(\u001b[0m\u001b[0max\u001b[0m\u001b[0;34m,\u001b[0m \u001b[0;34m*\u001b[0m\u001b[0margs\u001b[0m\u001b[0;34m,\u001b[0m \u001b[0;34m**\u001b[0m\u001b[0mkwargs\u001b[0m\u001b[0;34m)\u001b[0m\u001b[0;34m\u001b[0m\u001b[0;34m\u001b[0m\u001b[0m\n",
            "\u001b[0;32m/usr/local/lib/python3.7/dist-packages/matplotlib/axes/_axes.py\u001b[0m in \u001b[0;36mbar\u001b[0;34m(self, x, height, width, bottom, align, **kwargs)\u001b[0m\n\u001b[1;32m   2340\u001b[0m         x, height, width, y, linewidth = np.broadcast_arrays(\n\u001b[1;32m   2341\u001b[0m             \u001b[0;31m# Make args iterable too.\u001b[0m\u001b[0;34m\u001b[0m\u001b[0;34m\u001b[0m\u001b[0;34m\u001b[0m\u001b[0m\n\u001b[0;32m-> 2342\u001b[0;31m             np.atleast_1d(x), height, width, y, linewidth)\n\u001b[0m\u001b[1;32m   2343\u001b[0m \u001b[0;34m\u001b[0m\u001b[0m\n\u001b[1;32m   2344\u001b[0m         \u001b[0;31m# Now that units have been converted, set the tick locations.\u001b[0m\u001b[0;34m\u001b[0m\u001b[0;34m\u001b[0m\u001b[0;34m\u001b[0m\u001b[0m\n",
            "\u001b[0;32m<__array_function__ internals>\u001b[0m in \u001b[0;36mbroadcast_arrays\u001b[0;34m(*args, **kwargs)\u001b[0m\n",
            "\u001b[0;32m/usr/local/lib/python3.7/dist-packages/numpy/lib/stride_tricks.py\u001b[0m in \u001b[0;36mbroadcast_arrays\u001b[0;34m(subok, *args)\u001b[0m\n\u001b[1;32m    536\u001b[0m     \u001b[0margs\u001b[0m \u001b[0;34m=\u001b[0m \u001b[0;34m[\u001b[0m\u001b[0mnp\u001b[0m\u001b[0;34m.\u001b[0m\u001b[0marray\u001b[0m\u001b[0;34m(\u001b[0m\u001b[0m_m\u001b[0m\u001b[0;34m,\u001b[0m \u001b[0mcopy\u001b[0m\u001b[0;34m=\u001b[0m\u001b[0;32mFalse\u001b[0m\u001b[0;34m,\u001b[0m \u001b[0msubok\u001b[0m\u001b[0;34m=\u001b[0m\u001b[0msubok\u001b[0m\u001b[0;34m)\u001b[0m \u001b[0;32mfor\u001b[0m \u001b[0m_m\u001b[0m \u001b[0;32min\u001b[0m \u001b[0margs\u001b[0m\u001b[0;34m]\u001b[0m\u001b[0;34m\u001b[0m\u001b[0;34m\u001b[0m\u001b[0m\n\u001b[1;32m    537\u001b[0m \u001b[0;34m\u001b[0m\u001b[0m\n\u001b[0;32m--> 538\u001b[0;31m     \u001b[0mshape\u001b[0m \u001b[0;34m=\u001b[0m \u001b[0m_broadcast_shape\u001b[0m\u001b[0;34m(\u001b[0m\u001b[0;34m*\u001b[0m\u001b[0margs\u001b[0m\u001b[0;34m)\u001b[0m\u001b[0;34m\u001b[0m\u001b[0;34m\u001b[0m\u001b[0m\n\u001b[0m\u001b[1;32m    539\u001b[0m \u001b[0;34m\u001b[0m\u001b[0m\n\u001b[1;32m    540\u001b[0m     \u001b[0;32mif\u001b[0m \u001b[0mall\u001b[0m\u001b[0;34m(\u001b[0m\u001b[0marray\u001b[0m\u001b[0;34m.\u001b[0m\u001b[0mshape\u001b[0m \u001b[0;34m==\u001b[0m \u001b[0mshape\u001b[0m \u001b[0;32mfor\u001b[0m \u001b[0marray\u001b[0m \u001b[0;32min\u001b[0m \u001b[0margs\u001b[0m\u001b[0;34m)\u001b[0m\u001b[0;34m:\u001b[0m\u001b[0;34m\u001b[0m\u001b[0;34m\u001b[0m\u001b[0m\n",
            "\u001b[0;32m/usr/local/lib/python3.7/dist-packages/numpy/lib/stride_tricks.py\u001b[0m in \u001b[0;36m_broadcast_shape\u001b[0;34m(*args)\u001b[0m\n\u001b[1;32m    418\u001b[0m     \u001b[0;31m# use the old-iterator because np.nditer does not handle size 0 arrays\u001b[0m\u001b[0;34m\u001b[0m\u001b[0;34m\u001b[0m\u001b[0;34m\u001b[0m\u001b[0m\n\u001b[1;32m    419\u001b[0m     \u001b[0;31m# consistently\u001b[0m\u001b[0;34m\u001b[0m\u001b[0;34m\u001b[0m\u001b[0;34m\u001b[0m\u001b[0m\n\u001b[0;32m--> 420\u001b[0;31m     \u001b[0mb\u001b[0m \u001b[0;34m=\u001b[0m \u001b[0mnp\u001b[0m\u001b[0;34m.\u001b[0m\u001b[0mbroadcast\u001b[0m\u001b[0;34m(\u001b[0m\u001b[0;34m*\u001b[0m\u001b[0margs\u001b[0m\u001b[0;34m[\u001b[0m\u001b[0;34m:\u001b[0m\u001b[0;36m32\u001b[0m\u001b[0;34m]\u001b[0m\u001b[0;34m)\u001b[0m\u001b[0;34m\u001b[0m\u001b[0;34m\u001b[0m\u001b[0m\n\u001b[0m\u001b[1;32m    421\u001b[0m     \u001b[0;31m# unfortunately, it cannot handle 32 or more arguments directly\u001b[0m\u001b[0;34m\u001b[0m\u001b[0;34m\u001b[0m\u001b[0;34m\u001b[0m\u001b[0m\n\u001b[1;32m    422\u001b[0m     \u001b[0;32mfor\u001b[0m \u001b[0mpos\u001b[0m \u001b[0;32min\u001b[0m \u001b[0mrange\u001b[0m\u001b[0;34m(\u001b[0m\u001b[0;36m32\u001b[0m\u001b[0;34m,\u001b[0m \u001b[0mlen\u001b[0m\u001b[0;34m(\u001b[0m\u001b[0margs\u001b[0m\u001b[0;34m)\u001b[0m\u001b[0;34m,\u001b[0m \u001b[0;36m31\u001b[0m\u001b[0;34m)\u001b[0m\u001b[0;34m:\u001b[0m\u001b[0;34m\u001b[0m\u001b[0;34m\u001b[0m\u001b[0m\n",
            "\u001b[0;31mValueError\u001b[0m: shape mismatch: objects cannot be broadcast to a single shape"
          ]
        },
        {
          "output_type": "display_data",
          "data": {
            "text/plain": [
              "<Figure size 432x288 with 1 Axes>"
            ],
            "image/png": "[encoded data removed]"
          },
          "metadata": {}
        }
      ]
    },
    {
      "cell_type": "markdown",
      "source": [
        ""
      ],
      "metadata": {
        "id": "nPk9F0FllKY7"
      }
    }
  ],
  "metadata": {
    "accelerator": "GPU",
    "colab": {
      "collapsed_sections": [],
      "machine_shape": "hm",
      "name": "表情识别.ipynb",
      "provenance": [],
      "mount_file_id": "1Iq-1Fqtd91Esz-FWXtQODSGWY72i4Pl7",
      "authorship_tag": "ABX9TyOt9WHcQU/aObC8CeMfhNv7",
      "include_colab_link": true
    },
    "kernelspec": {
      "display_name": "Python 3",
      "name": "python3"
    },
    "language_info": {
      "name": "python"
    }
  },
  "nbformat": 4,
  "nbformat_minor": 0
}