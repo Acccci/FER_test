{
  "cells": [
    {
      "cell_type": "markdown",
      "metadata": {
        "id": "view-in-github",
        "colab_type": "text"
      },
      "source": [
        "<a href=\"https://colab.research.google.com/github/Acccci/FER_test/blob/colab/disgust.ipynb\" target=\"_parent\"><img src=\"https://colab.research.google.com/assets/colab-badge.svg\" alt=\"Open In Colab\"/></a>"
      ]
    },
    {
      "cell_type": "code",
      "execution_count": 5,
      "metadata": {
        "colab": {
          "base_uri": "https://localhost:8080/"
        },
        "id": "AGvVunkkijmX",
        "outputId": "00b834a6-00e6-46f9-eb23-95d627477474"
      },
      "outputs": [
        {
          "output_type": "stream",
          "name": "stdout",
          "text": [
            "Drive already mounted at /content/drive; to attempt to forcibly remount, call drive.mount(\"/content/drive\", force_remount=True).\n"
          ]
        }
      ],
      "source": [
        "from google.colab import drive\n",
        "drive.mount('/content/drive')"
      ]
    },
    {
      "cell_type": "code",
      "execution_count": 7,
      "metadata": {
        "colab": {
          "base_uri": "https://localhost:8080/"
        },
        "id": "eTCVmhvCtHua",
        "outputId": "9113c801-e35c-4b32-ca43-5092908b648a"
      },
      "outputs": [
        {
          "output_type": "stream",
          "name": "stdout",
          "text": [
            "(70680, 1)   (70680,)\n",
            "(70680, 48, 48, 1)\n",
            "(70680, 1)\n",
            "Model: \"sequential_2\"\n",
            "_________________________________________________________________\n",
            " Layer (type)                Output Shape              Param #   \n",
            "=================================================================\n",
            " conv2d_10 (Conv2D)          (None, 46, 46, 32)        320       \n",
            "                                                                 \n",
            " batch_normalization_10 (Bat  (None, 46, 46, 32)       128       \n",
            " chNormalization)                                                \n",
            "                                                                 \n",
            " activation_10 (Activation)  (None, 46, 46, 32)        0         \n",
            "                                                                 \n",
            " conv2d_11 (Conv2D)          (None, 46, 46, 64)        18496     \n",
            "                                                                 \n",
            " batch_normalization_11 (Bat  (None, 46, 46, 64)       256       \n",
            " chNormalization)                                                \n",
            "                                                                 \n",
            " activation_11 (Activation)  (None, 46, 46, 64)        0         \n",
            "                                                                 \n",
            " max_pooling2d_6 (MaxPooling  (None, 23, 23, 64)       0         \n",
            " 2D)                                                             \n",
            "                                                                 \n",
            " conv2d_12 (Conv2D)          (None, 21, 21, 64)        36928     \n",
            "                                                                 \n",
            " batch_normalization_12 (Bat  (None, 21, 21, 64)       256       \n",
            " chNormalization)                                                \n",
            "                                                                 \n",
            " activation_12 (Activation)  (None, 21, 21, 64)        0         \n",
            "                                                                 \n",
            " conv2d_13 (Conv2D)          (None, 21, 21, 128)       73856     \n",
            "                                                                 \n",
            " batch_normalization_13 (Bat  (None, 21, 21, 128)      512       \n",
            " chNormalization)                                                \n",
            "                                                                 \n",
            " activation_13 (Activation)  (None, 21, 21, 128)       0         \n",
            "                                                                 \n",
            " max_pooling2d_7 (MaxPooling  (None, 10, 10, 128)      0         \n",
            " 2D)                                                             \n",
            "                                                                 \n",
            " conv2d_14 (Conv2D)          (None, 8, 8, 128)         147584    \n",
            "                                                                 \n",
            " batch_normalization_14 (Bat  (None, 8, 8, 128)        512       \n",
            " chNormalization)                                                \n",
            "                                                                 \n",
            " activation_14 (Activation)  (None, 8, 8, 128)         0         \n",
            "                                                                 \n",
            " max_pooling2d_8 (MaxPooling  (None, 4, 4, 128)        0         \n",
            " 2D)                                                             \n",
            "                                                                 \n",
            " flatten_2 (Flatten)         (None, 2048)              0         \n",
            "                                                                 \n",
            " dense_4 (Dense)             (None, 200)               409800    \n",
            "                                                                 \n",
            " dropout_2 (Dropout)         (None, 200)               0         \n",
            "                                                                 \n",
            " dense_5 (Dense)             (None, 2)                 402       \n",
            "                                                                 \n",
            "=================================================================\n",
            "Total params: 689,050\n",
            "Trainable params: 688,218\n",
            "Non-trainable params: 832\n",
            "_________________________________________________________________\n",
            "Epoch 1/10\n",
            "1988/1988 [==============================] - 19s 9ms/step - loss: 0.2083 - accuracy: 0.9127 - val_loss: 0.0144 - val_accuracy: 0.9976\n",
            "Epoch 2/10\n",
            "1988/1988 [==============================] - 18s 9ms/step - loss: 0.0241 - accuracy: 0.9927 - val_loss: 0.0080 - val_accuracy: 0.9994\n",
            "Epoch 3/10\n",
            "1988/1988 [==============================] - 18s 9ms/step - loss: 0.0137 - accuracy: 0.9959 - val_loss: 0.0091 - val_accuracy: 0.9983\n",
            "Epoch 4/10\n",
            "1988/1988 [==============================] - 18s 9ms/step - loss: 0.0105 - accuracy: 0.9970 - val_loss: 0.0031 - val_accuracy: 0.9996\n",
            "Epoch 5/10\n",
            "1988/1988 [==============================] - 18s 9ms/step - loss: 0.0081 - accuracy: 0.9974 - val_loss: 0.0022 - val_accuracy: 0.9996\n",
            "Epoch 6/10\n",
            "1988/1988 [==============================] - 18s 9ms/step - loss: 0.0081 - accuracy: 0.9974 - val_loss: 0.0023 - val_accuracy: 0.9997\n",
            "Epoch 7/10\n",
            "1988/1988 [==============================] - 18s 9ms/step - loss: 0.0068 - accuracy: 0.9981 - val_loss: 0.0051 - val_accuracy: 0.9982\n",
            "Epoch 8/10\n",
            "1988/1988 [==============================] - 18s 9ms/step - loss: 0.0062 - accuracy: 0.9984 - val_loss: 0.0023 - val_accuracy: 0.9996\n",
            "Epoch 9/10\n",
            "1988/1988 [==============================] - 18s 9ms/step - loss: 0.0058 - accuracy: 0.9983 - val_loss: 0.0092 - val_accuracy: 0.9970\n",
            "Epoch 10/10\n",
            "1988/1988 [==============================] - 18s 9ms/step - loss: 0.0077 - accuracy: 0.9977 - val_loss: 0.0085 - val_accuracy: 0.9979\n"
          ]
        }
      ],
      "source": [
        "import numpy as np\n",
        "import pandas as pd\n",
        "import os\n",
        "for dirname,_,filenames in os.walk('kaggle/input'):\n",
        "  for filename in filenames:\n",
        "    print(os.path.join(dirname, filename))\n",
        "from keras.layers.core.dropout import Dropout\n",
        "from keras.layers.core.dense import Dense\n",
        "from keras.layers.core.flatten import Flatten\n",
        "from keras.layers.core.activation import Activation\n",
        "from keras.layers.pooling import MaxPooling2D\n",
        "import tensorflow as tf\n",
        "from tensorflow import keras\n",
        "import matplotlib.pyplot as plt\n",
        "import seaborn as sns\n",
        "from sklearn.model_selection import train_test_split\n",
        "from keras.layers import Conv2D,MaxPool2D,AveragePooling2D,Input,BatchNormalization, MaxPooling2D, Activation, Flatten, Dense, Dropout\n",
        "from keras.models import Sequential\n",
        "from keras.utils import np_utils\n",
        "from sklearn.metrics import classification_report\n",
        "from imblearn.over_sampling import RandomOverSampler\n",
        "from keras_preprocessing import image\n",
        "import scipy\n",
        "import os\n",
        "import cv2\n",
        "data = pd.read_csv(\"/content/drive/MyDrive/disgust.csv\")\n",
        "\n",
        "#x数据集是图片的像素；y数据集是标签\n",
        "x_data = data[\"pixels\"]\n",
        "y_data = data[\"emotion\"]\n",
        "sns.set_theme(style=\"darkgrid\")\n",
        "oversampler = RandomOverSampler(sampling_strategy=\"auto\")\n",
        "\n",
        "#数据集预处理\n",
        "x_data, y_data = oversampler.fit_resample(x_data.values.reshape(-1,1),y_data)\n",
        "print(x_data.shape, \" \", y_data.shape)\n",
        "y_data.value_counts()\n",
        "y_data.shape\n",
        "x_data = pd.Series(x_data.flatten())\n",
        "x_data = np.array(list(map(str.split, x_data)), np.float32)\n",
        "x_data /= 255\n",
        "# x_data[:10]\n",
        "x_data = x_data.reshape(-1, 48, 48, 1)\n",
        "print(x_data.shape)\n",
        "y_data = np.array(y_data)\n",
        "y_data = y_data.reshape(y_data.shape[0], 1)\n",
        "print(y_data.shape)\n",
        "x_train,x_test, y_train, y_test = train_test_split(x_data, y_data, test_size=0.1, random_state=45)\n",
        "\n",
        "model = Sequential([ \n",
        "  Input((48, 48, 1)),\n",
        "  Conv2D(32, kernel_size=(3,3), strides=(1,1), padding='valid'),\n",
        "  BatchNormalization(axis=3),\n",
        "  Activation('relu'),\n",
        "  Conv2D(64, (3,3), strides=(1,1), padding='same'),\n",
        "  BatchNormalization(axis=3),\n",
        "  Activation('relu'),\n",
        "  MaxPooling2D((2,2)),\n",
        "  Conv2D(64, (3, 3), strides=(1,1), padding='valid'),\n",
        "  BatchNormalization(axis=3),\n",
        "  Activation('relu'),\n",
        "  Conv2D(128,(3, 3), strides=(1, 1), padding='same'),\n",
        "  BatchNormalization(axis=3),\n",
        "  Activation('relu'),\n",
        "  MaxPooling2D((2, 2)),\n",
        "  Conv2D(128, (3, 3), strides=(1, 1), padding='valid'),\n",
        "  BatchNormalization(axis=3),\n",
        "  Activation('relu'),\n",
        "  MaxPooling2D((2,2)),\n",
        "  Flatten(),\n",
        "  Dense(200, activation='relu'),\n",
        "  Dropout(0.6),\n",
        "  Dense(2,activation='sigmoid')  # 如果是一分类表情识别， 此处为1；\n",
        "  ])\n",
        "model.summary()\n",
        "adam = keras.optimizers.Adam(learning_rate=0.0001)\n",
        "model.compile(optimizer=adam, loss='categorical_crossentropy', metrics=['accuracy'])\n",
        "y_train = np_utils.to_categorical(y_train, 2)\n",
        "y_train.shape\n",
        "y_test = np_utils.to_categorical(y_test, 2)\n",
        "y_test.shape\n",
        "# #模型训练\n",
        "history = model.fit(x_train,y_train,epochs=10,validation_data=(x_test, y_test))\n",
        "\n"
      ]
    },
    {
      "cell_type": "code",
      "execution_count": 8,
      "metadata": {
        "colab": {
          "base_uri": "https://localhost:8080/",
          "height": 1000
        },
        "id": "oxvXCbGerNTx",
        "outputId": "0b1dac7f-a9b5-4f6a-fd60-9d829a00142e"
      },
      "outputs": [
        {
          "output_type": "display_data",
          "data": {
            "image/png": "[encoded data removed]",
            "text/plain": [
              "<Figure size 432x288 with 1 Axes>"
            ]
          },
          "metadata": {}
        },
        {
          "output_type": "display_data",
          "data": {
            "image/png": "[encoded data removed]",
            "text/plain": [
              "<Figure size 432x288 with 1 Axes>"
            ]
          },
          "metadata": {}
        },
        {
          "output_type": "stream",
          "name": "stdout",
          "text": [
            "              precision    recall  f1-score   support\n",
            "\n",
            "           0       1.00      1.00      1.00      3488\n",
            "           1       1.00      1.00      1.00      3580\n",
            "\n",
            "    accuracy                           1.00      7068\n",
            "   macro avg       1.00      1.00      1.00      7068\n",
            "weighted avg       1.00      1.00      1.00      7068\n",
            "\n"
          ]
        },
        {
          "output_type": "display_data",
          "data": {
            "image/png": "[encoded data removed]",
            "text/plain": [
              "<Figure size 720x504 with 2 Axes>"
            ]
          },
          "metadata": {}
        }
      ],
      "source": [
        "plt.plot(history.history['accuracy'])\n",
        "plt.plot(history.history['val_accuracy'])\n",
        "plt.title('model_accuracy')\n",
        "plt.ylabel('accuracy')\n",
        "plt.xlabel('epoch')\n",
        "plt.legend(['train','test'],loc='upper left')\n",
        "plt.show()\n",
        "#summarize history for loss\n",
        "plt.plot(history.history['loss'])\n",
        "plt.plot(history.history['val_loss'])\n",
        "plt.title('model_loss')\n",
        "plt.ylabel('loss')\n",
        "plt.xlabel('epoch')\n",
        "plt.legend(['train','test'],loc='upper left')\n",
        "plt.show()\n",
        "y_pred=model.predict(x_test)\n",
        "y_result=[]\n",
        "for pred in y_pred:\n",
        "  y_result.append(np.argmax(pred))\n",
        "y_result[:10]\n",
        "\n",
        "y_actual=[]\n",
        "for pred in y_test:\n",
        "  y_actual.append(np.argmax(pred))\n",
        "y_actual[:10]\n",
        "\n",
        "from sklearn.metrics import confusion_matrix, classification_report\n",
        "print(classification_report(y_actual,y_result))\n",
        "import seaborn as sn\n",
        "cm = tf.math.confusion_matrix(labels=y_actual,predictions=y_result)\n",
        "\n",
        "\n",
        "plt.figure(figsize=(10,7))\n",
        "sn.heatmap(cm,annot=True,fmt='d')\n",
        "plt.xlabel('Predicted')\n",
        "plt.ylabel('Truth')\n",
        "fer_json=model.to_json()\n",
        "with open(\"fer_json\", \"w\") as json_file:\n",
        "  json_file.write(fer_json)\n",
        "\n",
        "#保存模型\n",
        "model.save_weights(\"/content/drive/MyDrive/disgust_model.h5\")\n"
      ]
    },
    {
      "cell_type": "code",
      "execution_count": null,
      "metadata": {
        "id": "mwrFc7J9LaLN"
      },
      "outputs": [],
      "source": [
        ""
      ]
    },
    {
      "cell_type": "code",
      "execution_count": null,
      "metadata": {
        "id": "n_a0aKNzLRgc"
      },
      "outputs": [],
      "source": [
        ""
      ]
    }
  ],
  "metadata": {
    "accelerator": "GPU",
    "colab": {
      "collapsed_sections": [],
      "machine_shape": "hm",
      "name": "表情识别.ipynb",
      "provenance": [],
      "mount_file_id": "1Iq-1Fqtd91Esz-FWXtQODSGWY72i4Pl7",
      "authorship_tag": "ABX9TyOnsaFubXLitp4ua3VvoXF/",
      "include_colab_link": true
    },
    "kernelspec": {
      "display_name": "Python 3",
      "name": "python3"
    },
    "language_info": {
      "name": "python"
    }
  },
  "nbformat": 4,
  "nbformat_minor": 0
}