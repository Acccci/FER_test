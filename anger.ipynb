{
  "nbformat": 4,
  "nbformat_minor": 0,
  "metadata": {
    "colab": {
      "name": "表情识别.ipynb",
      "provenance": [],
      "collapsed_sections": [],
      "machine_shape": "hm",
      "mount_file_id": "1Iq-1Fqtd91Esz-FWXtQODSGWY72i4Pl7",
      "authorship_tag": "ABX9TyOyow8lncQJ32/GNMv3PyZV",
      "include_colab_link": true
    },
    "kernelspec": {
      "name": "python3",
      "display_name": "Python 3"
    },
    "language_info": {
      "name": "python"
    },
    "accelerator": "GPU"
  },
  "cells": [
    {
      "cell_type": "markdown",
      "metadata": {
        "id": "view-in-github",
        "colab_type": "text"
      },
      "source": [
        "<a href=\"https://colab.research.google.com/github/Acccci/FER_test/blob/main/anger.ipynb\" target=\"_parent\"><img src=\"https://colab.research.google.com/assets/colab-badge.svg\" alt=\"Open In Colab\"/></a>"
      ]
    },
    {
      "cell_type": "code",
      "execution_count": 11,
      "metadata": {
        "colab": {
          "base_uri": "https://localhost:8080/"
        },
        "id": "AGvVunkkijmX",
        "outputId": "cf76a8e9-5100-4556-8316-ccb2571f3eaa"
      },
      "outputs": [
        {
          "output_type": "stream",
          "name": "stdout",
          "text": [
            "Drive already mounted at /content/drive; to attempt to forcibly remount, call drive.mount(\"/content/drive\", force_remount=True).\n"
          ]
        }
      ],
      "source": [
        "from google.colab import drive\n",
        "drive.mount('/content/drive')"
      ]
    },
    {
      "cell_type": "code",
      "source": [
        "import numpy as np\n",
        "import pandas as pd\n",
        "import os\n",
        "for dirname,_,filenames in os.walk('kaggle/input'):\n",
        "  for filename in filenames:\n",
        "    print(os.path.join(dirname, filename))\n",
        "from keras.layers.core.dropout import Dropout\n",
        "from keras.layers.core.dense import Dense\n",
        "from keras.layers.core.flatten import Flatten\n",
        "from keras.layers.core.activation import Activation\n",
        "from keras.layers.pooling import MaxPooling2D\n",
        "import tensorflow as tf\n",
        "from tensorflow import keras\n",
        "import matplotlib.pyplot as plt\n",
        "import seaborn as sns\n",
        "from sklearn.model_selection import train_test_split\n",
        "from keras.layers import Conv2D,MaxPool2D,AveragePooling2D,Input,BatchNormalization, MaxPooling2D, Activation, Flatten, Dense, Dropout\n",
        "from keras.models import Sequential\n",
        "from keras.utils import np_utils\n",
        "from sklearn.metrics import classification_report\n",
        "from imblearn.over_sampling import RandomOverSampler\n",
        "from keras_preprocessing import image\n",
        "import scipy\n",
        "import os\n",
        "import cv2\n",
        "data = pd.read_csv(\"/content/drive/MyDrive/anger.csv\")\n",
        "\n",
        "#x数据集是图片的像素；y数据集是标签\n",
        "x_data = data[\"pixels\"]\n",
        "y_data = data[\"emotion\"]\n",
        "sns.set_theme(style=\"darkgrid\")\n",
        "oversampler = RandomOverSampler(sampling_strategy=\"auto\")\n",
        "\n",
        "#数据集预处理\n",
        "x_data, y_data = oversampler.fit_resample(x_data.values.reshape(-1,1),y_data)\n",
        "print(x_data.shape, \" \", y_data.shape)\n",
        "y_data.value_counts()\n",
        "y_data.shape\n",
        "x_data = pd.Series(x_data.flatten())\n",
        "x_data = np.array(list(map(str.split, x_data)), np.float32)\n",
        "x_data /= 255\n",
        "# x_data[:10]\n",
        "x_data = x_data.reshape(-1, 48, 48, 1)\n",
        "print(x_data.shape)\n",
        "y_data = np.array(y_data)\n",
        "y_data = y_data.reshape(y_data.shape[0], 1)\n",
        "print(y_data.shape)\n",
        "x_train,x_test, y_train, y_test = train_test_split(x_data, y_data, test_size=0.1, random_state=45)\n",
        "\n",
        "model = Sequential([ \n",
        "  Input((48, 48, 1)),\n",
        "  Conv2D(32, kernel_size=(3,3), strides=(1,1), padding='valid'),\n",
        "  BatchNormalization(axis=3),\n",
        "  Activation('relu'),\n",
        "  Conv2D(64, (3,3), strides=(1,1), padding='same'),\n",
        "  BatchNormalization(axis=3),\n",
        "  Activation('relu'),\n",
        "  MaxPooling2D((2,2)),\n",
        "  Conv2D(64, (3, 3), strides=(1,1), padding='valid'),\n",
        "  BatchNormalization(axis=3),\n",
        "  Activation('relu'),\n",
        "  Conv2D(128,(3, 3), strides=(1, 1), padding='same'),\n",
        "  BatchNormalization(axis=3),\n",
        "  Activation('relu'),\n",
        "  MaxPooling2D((2, 2)),\n",
        "  Conv2D(128, (3, 3), strides=(1, 1), padding='valid'),\n",
        "  BatchNormalization(axis=3),\n",
        "  Activation('relu'),\n",
        "  MaxPooling2D((2,2)),\n",
        "  Flatten(),\n",
        "  Dense(200, activation='relu'),\n",
        "  Dropout(0.6),\n",
        "  Dense(2,activation='sigmoid')  # 如果是一分类表情识别， 此处为1；\n",
        "  ])\n",
        "model.summary()\n",
        "adam = keras.optimizers.Adam(learning_rate=0.0001)\n",
        "model.compile(optimizer=adam, loss='categorical_crossentropy', metrics=['accuracy'])\n",
        "y_train = np_utils.to_categorical(y_train, 2)\n",
        "y_train.shape\n",
        "y_test = np_utils.to_categorical(y_test, 2)\n",
        "y_test.shape\n",
        "# #模型训练\n",
        "history = model.fit(x_train,y_train,epochs=30,validation_data=(x_test, y_test))\n",
        "\n"
      ],
      "metadata": {
        "colab": {
          "base_uri": "https://localhost:8080/"
        },
        "id": "eTCVmhvCtHua",
        "outputId": "39adb02d-d42b-4d82-8c30-4f09c8afe462"
      },
      "execution_count": 1,
      "outputs": [
        {
          "output_type": "stream",
          "name": "stdout",
          "text": [
            "(61868, 1)   (61868,)\n",
            "(61868, 48, 48, 1)\n",
            "(61868, 1)\n",
            "Model: \"sequential\"\n",
            "_________________________________________________________________\n",
            " Layer (type)                Output Shape              Param #   \n",
            "=================================================================\n",
            " conv2d (Conv2D)             (None, 46, 46, 32)        320       \n",
            "                                                                 \n",
            " batch_normalization (BatchN  (None, 46, 46, 32)       128       \n",
            " ormalization)                                                   \n",
            "                                                                 \n",
            " activation (Activation)     (None, 46, 46, 32)        0         \n",
            "                                                                 \n",
            " conv2d_1 (Conv2D)           (None, 46, 46, 64)        18496     \n",
            "                                                                 \n",
            " batch_normalization_1 (Batc  (None, 46, 46, 64)       256       \n",
            " hNormalization)                                                 \n",
            "                                                                 \n",
            " activation_1 (Activation)   (None, 46, 46, 64)        0         \n",
            "                                                                 \n",
            " max_pooling2d (MaxPooling2D  (None, 23, 23, 64)       0         \n",
            " )                                                               \n",
            "                                                                 \n",
            " conv2d_2 (Conv2D)           (None, 21, 21, 64)        36928     \n",
            "                                                                 \n",
            " batch_normalization_2 (Batc  (None, 21, 21, 64)       256       \n",
            " hNormalization)                                                 \n",
            "                                                                 \n",
            " activation_2 (Activation)   (None, 21, 21, 64)        0         \n",
            "                                                                 \n",
            " conv2d_3 (Conv2D)           (None, 21, 21, 128)       73856     \n",
            "                                                                 \n",
            " batch_normalization_3 (Batc  (None, 21, 21, 128)      512       \n",
            " hNormalization)                                                 \n",
            "                                                                 \n",
            " activation_3 (Activation)   (None, 21, 21, 128)       0         \n",
            "                                                                 \n",
            " max_pooling2d_1 (MaxPooling  (None, 10, 10, 128)      0         \n",
            " 2D)                                                             \n",
            "                                                                 \n",
            " conv2d_4 (Conv2D)           (None, 8, 8, 128)         147584    \n",
            "                                                                 \n",
            " batch_normalization_4 (Batc  (None, 8, 8, 128)        512       \n",
            " hNormalization)                                                 \n",
            "                                                                 \n",
            " activation_4 (Activation)   (None, 8, 8, 128)         0         \n",
            "                                                                 \n",
            " max_pooling2d_2 (MaxPooling  (None, 4, 4, 128)        0         \n",
            " 2D)                                                             \n",
            "                                                                 \n",
            " flatten (Flatten)           (None, 2048)              0         \n",
            "                                                                 \n",
            " dense (Dense)               (None, 200)               409800    \n",
            "                                                                 \n",
            " dropout (Dropout)           (None, 200)               0         \n",
            "                                                                 \n",
            " dense_1 (Dense)             (None, 2)                 402       \n",
            "                                                                 \n",
            "=================================================================\n",
            "Total params: 689,050\n",
            "Trainable params: 688,218\n",
            "Non-trainable params: 832\n",
            "_________________________________________________________________\n",
            "Epoch 1/30\n",
            "1741/1741 [==============================] - 27s 10ms/step - loss: 0.6487 - accuracy: 0.6302 - val_loss: 0.5557 - val_accuracy: 0.7084\n",
            "Epoch 2/30\n",
            "1741/1741 [==============================] - 16s 9ms/step - loss: 0.5068 - accuracy: 0.7471 - val_loss: 0.4453 - val_accuracy: 0.7931\n",
            "Epoch 3/30\n",
            "1741/1741 [==============================] - 16s 9ms/step - loss: 0.3901 - accuracy: 0.8250 - val_loss: 0.3898 - val_accuracy: 0.8279\n",
            "Epoch 4/30\n",
            "1741/1741 [==============================] - 16s 9ms/step - loss: 0.2700 - accuracy: 0.8898 - val_loss: 0.3076 - val_accuracy: 0.8657\n",
            "Epoch 5/30\n",
            "1741/1741 [==============================] - 16s 9ms/step - loss: 0.1712 - accuracy: 0.9357 - val_loss: 0.3112 - val_accuracy: 0.8799\n",
            "Epoch 6/30\n",
            "1741/1741 [==============================] - 16s 9ms/step - loss: 0.1314 - accuracy: 0.9511 - val_loss: 0.1408 - val_accuracy: 0.9499\n",
            "Epoch 7/30\n",
            "1741/1741 [==============================] - 16s 9ms/step - loss: 0.0818 - accuracy: 0.9708 - val_loss: 0.1288 - val_accuracy: 0.9568\n",
            "Epoch 8/30\n",
            "1741/1741 [==============================] - 17s 10ms/step - loss: 0.0637 - accuracy: 0.9782 - val_loss: 0.1125 - val_accuracy: 0.9652\n",
            "Epoch 9/30\n",
            "1741/1741 [==============================] - 16s 9ms/step - loss: 0.0532 - accuracy: 0.9821 - val_loss: 0.1103 - val_accuracy: 0.9651\n",
            "Epoch 10/30\n",
            "1741/1741 [==============================] - 16s 9ms/step - loss: 0.0471 - accuracy: 0.9845 - val_loss: 0.1045 - val_accuracy: 0.9662\n",
            "Epoch 11/30\n",
            "1741/1741 [==============================] - 16s 9ms/step - loss: 0.0399 - accuracy: 0.9866 - val_loss: 0.1171 - val_accuracy: 0.9646\n",
            "Epoch 12/30\n",
            "1741/1741 [==============================] - 16s 9ms/step - loss: 0.0387 - accuracy: 0.9866 - val_loss: 0.1430 - val_accuracy: 0.9617\n",
            "Epoch 13/30\n",
            "1741/1741 [==============================] - 16s 9ms/step - loss: 0.0382 - accuracy: 0.9875 - val_loss: 0.1386 - val_accuracy: 0.9615\n",
            "Epoch 14/30\n",
            "1741/1741 [==============================] - 16s 9ms/step - loss: 0.0343 - accuracy: 0.9885 - val_loss: 0.1220 - val_accuracy: 0.9599\n",
            "Epoch 15/30\n",
            "1741/1741 [==============================] - 16s 9ms/step - loss: 0.0323 - accuracy: 0.9892 - val_loss: 0.1747 - val_accuracy: 0.9546\n",
            "Epoch 16/30\n",
            "1741/1741 [==============================] - 16s 9ms/step - loss: 0.0293 - accuracy: 0.9908 - val_loss: 0.1249 - val_accuracy: 0.9586\n",
            "Epoch 17/30\n",
            "1741/1741 [==============================] - 16s 9ms/step - loss: 0.0426 - accuracy: 0.9859 - val_loss: 0.0809 - val_accuracy: 0.9737\n",
            "Epoch 18/30\n",
            "1741/1741 [==============================] - 16s 9ms/step - loss: 0.0374 - accuracy: 0.9877 - val_loss: 0.0928 - val_accuracy: 0.9761\n",
            "Epoch 19/30\n",
            "1741/1741 [==============================] - 16s 9ms/step - loss: 0.0237 - accuracy: 0.9927 - val_loss: 0.1176 - val_accuracy: 0.9690\n",
            "Epoch 20/30\n",
            "1741/1741 [==============================] - 16s 9ms/step - loss: 0.0265 - accuracy: 0.9923 - val_loss: 0.1015 - val_accuracy: 0.9732\n",
            "Epoch 21/30\n",
            "1741/1741 [==============================] - 16s 9ms/step - loss: 0.0270 - accuracy: 0.9917 - val_loss: 0.0992 - val_accuracy: 0.9719\n",
            "Epoch 22/30\n",
            "1741/1741 [==============================] - 16s 9ms/step - loss: 0.0257 - accuracy: 0.9918 - val_loss: 0.1260 - val_accuracy: 0.9686\n",
            "Epoch 23/30\n",
            "1741/1741 [==============================] - 16s 9ms/step - loss: 0.0227 - accuracy: 0.9923 - val_loss: 0.0874 - val_accuracy: 0.9737\n",
            "Epoch 24/30\n",
            "1741/1741 [==============================] - 16s 9ms/step - loss: 0.0239 - accuracy: 0.9917 - val_loss: 0.0797 - val_accuracy: 0.9793\n",
            "Epoch 25/30\n",
            "1741/1741 [==============================] - 16s 9ms/step - loss: 0.0211 - accuracy: 0.9931 - val_loss: 0.1350 - val_accuracy: 0.9640\n",
            "Epoch 26/30\n",
            "1741/1741 [==============================] - 16s 9ms/step - loss: 0.0216 - accuracy: 0.9936 - val_loss: 0.1169 - val_accuracy: 0.9719\n",
            "Epoch 27/30\n",
            "1741/1741 [==============================] - 16s 9ms/step - loss: 0.0209 - accuracy: 0.9931 - val_loss: 0.0988 - val_accuracy: 0.9712\n",
            "Epoch 28/30\n",
            "1741/1741 [==============================] - 16s 9ms/step - loss: 0.0189 - accuracy: 0.9937 - val_loss: 0.1444 - val_accuracy: 0.9696\n",
            "Epoch 29/30\n",
            "1741/1741 [==============================] - 16s 9ms/step - loss: 0.0188 - accuracy: 0.9937 - val_loss: 0.2457 - val_accuracy: 0.9518\n",
            "Epoch 30/30\n",
            "1741/1741 [==============================] - 16s 9ms/step - loss: 0.0214 - accuracy: 0.9931 - val_loss: 0.1342 - val_accuracy: 0.9696\n"
          ]
        }
      ]
    },
    {
      "cell_type": "code",
      "source": [
        "plt.plot(history.history['accuracy'])\n",
        "plt.plot(history.history['val_accuracy'])\n",
        "plt.title('model_accuracy')\n",
        "plt.ylabel('accuracy')\n",
        "plt.xlabel('epoch')\n",
        "plt.legend(['train','test'],loc='upper left')\n",
        "plt.show()\n",
        "#summarize history for loss\n",
        "plt.plot(history.history['loss'])\n",
        "plt.plot(history.history['val_loss'])\n",
        "plt.title('model_loss')\n",
        "plt.ylabel('loss')\n",
        "plt.xlabel('epoch')\n",
        "plt.legend(['train','test'],loc='upper left')\n",
        "plt.show()\n",
        "y_pred=model.predict(x_test)\n",
        "y_result=[]\n",
        "for pred in y_pred:\n",
        "  y_result.append(np.argmax(pred))\n",
        "y_result[:10]\n",
        "\n",
        "y_actual=[]\n",
        "for pred in y_test:\n",
        "  y_actual.append(np.argmax(pred))\n",
        "y_actual[:10]\n",
        "\n",
        "from sklearn.metrics import confusion_matrix, classification_report\n",
        "print(classification_report(y_actual,y_result))\n",
        "import seaborn as sn\n",
        "cm = tf.math.confusion_matrix(labels=y_actual,predictions=y_result)\n",
        "\n",
        "\n",
        "plt.figure(figsize=(10,7))\n",
        "sn.heatmap(cm,annot=True,fmt='d')\n",
        "plt.xlabel('Predicted')\n",
        "plt.ylabel('Truth')\n",
        "fer_json=model.to_json()\n",
        "with open(\"fer_json\", \"w\") as json_file:\n",
        "  json_file.write(fer_json)\n",
        "\n",
        "#保存模型\n",
        "model.save_weights(\"/content/drive/MyDrive/anger_model.h5\")\n"
      ],
      "metadata": {
        "id": "oxvXCbGerNTx",
        "colab": {
          "base_uri": "https://localhost:8080/",
          "height": 1000
        },
        "outputId": "8965283e-8819-4ccf-8a31-05aa28e73edc"
      },
      "execution_count": 2,
      "outputs": [
        {
          "output_type": "display_data",
          "data": {
            "image/png": "[encoded data removed]",
            "text/plain": [
              "<Figure size 432x288 with 1 Axes>"
            ]
          },
          "metadata": {
            "needs_background": "light"
          }
        },
        {
          "output_type": "display_data",
          "data": {
            "image/png": "[encoded data removed]",
            "text/plain": [
              "<Figure size 432x288 with 1 Axes>"
            ]
          },
          "metadata": {
            "needs_background": "light"
          }
        },
        {
          "output_type": "stream",
          "name": "stdout",
          "text": [
            "              precision    recall  f1-score   support\n",
            "\n",
            "           0       0.99      0.95      0.97      3083\n",
            "           1       0.95      0.99      0.97      3104\n",
            "\n",
            "    accuracy                           0.97      6187\n",
            "   macro avg       0.97      0.97      0.97      6187\n",
            "weighted avg       0.97      0.97      0.97      6187\n",
            "\n"
          ]
        },
        {
          "output_type": "display_data",
          "data": {
            "image/png": "[encoded data removed]",
            "text/plain": [
              "<Figure size 720x504 with 2 Axes>"
            ]
          },
          "metadata": {
            "needs_background": "light"
          }
        }
      ]
    },
    {
      "cell_type": "code",
      "source": [
        ""
      ],
      "metadata": {
        "id": "mwrFc7J9LaLN"
      },
      "execution_count": 13,
      "outputs": []
    },
    {
      "cell_type": "code",
      "source": [
        ""
      ],
      "metadata": {
        "id": "n_a0aKNzLRgc"
      },
      "execution_count": 13,
      "outputs": []
    }
  ]
}